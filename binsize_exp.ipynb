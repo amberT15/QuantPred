{
 "cells": [
  {
   "cell_type": "code",
   "execution_count": 3,
   "metadata": {},
   "outputs": [
    {
     "name": "stdout",
     "output_type": "stream",
     "text": [
      "The autoreload extension is already loaded. To reload it, use:\n",
      "  %reload_ext autoreload\n"
     ]
    }
   ],
   "source": [
    "%load_ext autoreload\n",
    "%autoreload 2\n",
    "import pyBigWig, os\n",
    "import numpy as np\n",
    "import pandas as pd\n",
    "import matplotlib.pyplot as plt\n",
    "import subprocess\n",
    "from scipy import stats\n",
    "import matplotlib.pyplot as plt\n",
    "import matplotlib.gridspec as gridspec\n",
    "import seaborn as sns\n",
    "import shutil\n",
    "import seaborn as sns\n",
    "import numpy as np\n",
    "import util\n",
    "import itertools\n",
    "import metrics\n",
    "import yaml\n",
    "import wandb\n",
    "# from test_to_bw_fast import * \n",
    "# import repl_analysis\n",
    "from tqdm import tqdm\n",
    "from test_to_bw_fast import get_config\n",
    "import tfr_evaluate\n",
    "from tfr_evaluate import get_true_pred, change_resolution, collect_datasets, collect_run_dirs, get_performance"
   ]
  },
  {
   "cell_type": "code",
   "execution_count": 2,
   "metadata": {},
   "outputs": [],
   "source": [
    "# define runs of the corresponding bin sizes\n",
    "bin_run = {1: '/home/shush/profile/QuantPred/wandb/run-20210729_141519-sp9rr54c',\n",
    "         2048: '/home/shush/profile/QuantPred/wandb/run-20210708_054512-6o9aiemr',\n",
    "         1024: '/home/shush/profile/QuantPred/wandb/run-20210707_185520-al4g85ma',\n",
    "         512: '/home/shush/profile/QuantPred/wandb/run-20210707_075709-uagtphvc',\n",
    "         256: '/home/shush/profile/QuantPred/wandb/run-20210706_210747-i6y823ij',\n",
    "         128: '/home/shush/profile/QuantPred/wandb/run-20210706_102343-vlazubgf',\n",
    "         64: '/home/shush/profile/QuantPred/wandb/run-20210705_233854-qqrnppam',\n",
    "         32: '/home/shush/profile/QuantPred/wandb/run-20210705_124947-5lmwz5d3'}"
   ]
  },
  {
   "cell_type": "code",
   "execution_count": 2,
   "metadata": {},
   "outputs": [
    {
     "name": "stderr",
     "output_type": "stream",
     "text": [
      "\u001b[34m\u001b[1mwandb\u001b[0m: Currently logged in as: \u001b[33mtoneyan\u001b[0m (use `wandb login --relogin` to force relogin)\n"
     ]
    }
   ],
   "source": [
    "bin_run = {}\n",
    "for run_dir in collect_run_dirs('BASENJI_BIN_LOSS'):\n",
    "    parameters = get_config(run_dir)\n",
    "    if parameters['loss_fn']['value'] == 'poisson':\n",
    "        \n",
    "        bin_run[parameters['bin_size']['value']] = run_dir\n",
    "        "
   ]
  },
  {
   "cell_type": "code",
   "execution_count": 3,
   "metadata": {},
   "outputs": [
    {
     "data": {
      "text/plain": [
       "{256: '/mnt/31dac31c-c4e2-4704-97bd-0788af37c5eb/shush/wandb/wandb_elzar/run-20210923_162932-56p3xy2p',\n",
       " 1: '/mnt/31dac31c-c4e2-4704-97bd-0788af37c5eb/shush/wandb/wandb_elzar/run-20210922_044222-5ueie0zy',\n",
       " 2048: '/mnt/31dac31c-c4e2-4704-97bd-0788af37c5eb/shush/wandb/wandb_elzar/run-20210920_085441-14shgpx1',\n",
       " 1024: '/mnt/31dac31c-c4e2-4704-97bd-0788af37c5eb/shush/wandb/wandb_elzar/run-20210920_082433-1ka588yc',\n",
       " 512: '/mnt/31dac31c-c4e2-4704-97bd-0788af37c5eb/shush/wandb/wandb_elzar/run-20210920_075434-wilgxp1a',\n",
       " 128: '/mnt/31dac31c-c4e2-4704-97bd-0788af37c5eb/shush/wandb/wandb_elzar/run-20210920_034502-n8axwb3r',\n",
       " 64: '/mnt/31dac31c-c4e2-4704-97bd-0788af37c5eb/shush/wandb/wandb_elzar/run-20210920_034501-7tftpu54',\n",
       " 32: '/mnt/31dac31c-c4e2-4704-97bd-0788af37c5eb/shush/wandb/wandb_elzar/run-20210920_034449-8p51o3ho'}"
      ]
     },
     "execution_count": 3,
     "metadata": {},
     "output_type": "execute_result"
    }
   ],
   "source": [
    "bin_run"
   ]
  },
  {
   "cell_type": "code",
   "execution_count": 4,
   "metadata": {},
   "outputs": [
    {
     "name": "stderr",
     "output_type": "stream",
     "text": [
      "\u001b[34m\u001b[1mwandb\u001b[0m: Currently logged in as: \u001b[33mtoneyan\u001b[0m (use `wandb login --relogin` to force relogin)\n"
     ]
    }
   ],
   "source": [
    "bin_run = {}\n",
    "for run_dir in tfr_evaluate.collect_run_dirs('BASENJI_BIN_LOSS'):\n",
    "    parameters = tfr_evaluate.get_config(run_dir)\n",
    "    if parameters['loss_fn']['value'] == 'poisson':\n",
    "        bin_run[parameters['bin_size']['value']] = run_dir"
   ]
  },
  {
   "cell_type": "code",
   "execution_count": 5,
   "metadata": {},
   "outputs": [],
   "source": [
    "# get datasets\n",
    "testset, targets, target_dataset_idr = collect_datasets()"
   ]
  },
  {
   "cell_type": "code",
   "execution_count": 8,
   "metadata": {
    "scrolled": true
   },
   "outputs": [
    {
     "name": "stdout",
     "output_type": "stream",
     "text": [
      "WARNING:tensorflow:No training configuration found in save file: the model was *not* compiled. Compile it manually.\n",
      "256 ---> 256\n",
      "256 ---> 512\n",
      "256 ---> 1024\n"
     ]
    },
    {
     "name": "stderr",
     "output_type": "stream",
     "text": [
      "/home/shush/tf_2/lib/python3.7/site-packages/scipy/spatial/distance.py:1300: RuntimeWarning: invalid value encountered in sqrt\n",
      "  return np.sqrt(js / 2.0)\n"
     ]
    },
    {
     "name": "stdout",
     "output_type": "stream",
     "text": [
      "256 ---> 2048\n",
      "WARNING:tensorflow:No training configuration found in save file: the model was *not* compiled. Compile it manually.\n",
      "1 ---> 1\n",
      "1 ---> 32\n",
      "1 ---> 64\n",
      "1 ---> 128\n",
      "1 ---> 256\n",
      "1 ---> 512\n",
      "1 ---> 1024\n",
      "1 ---> 2048\n",
      "WARNING:tensorflow:No training configuration found in save file: the model was *not* compiled. Compile it manually.\n",
      "2048 ---> 2048\n",
      "WARNING:tensorflow:No training configuration found in save file: the model was *not* compiled. Compile it manually.\n",
      "1024 ---> 1024\n",
      "1024 ---> 2048\n",
      "WARNING:tensorflow:No training configuration found in save file: the model was *not* compiled. Compile it manually.\n",
      "512 ---> 512\n",
      "512 ---> 1024\n",
      "512 ---> 2048\n",
      "WARNING:tensorflow:No training configuration found in save file: the model was *not* compiled. Compile it manually.\n",
      "128 ---> 128\n",
      "128 ---> 256\n",
      "128 ---> 512\n",
      "128 ---> 1024\n",
      "128 ---> 2048\n",
      "WARNING:tensorflow:No training configuration found in save file: the model was *not* compiled. Compile it manually.\n",
      "64 ---> 64\n",
      "64 ---> 128\n",
      "64 ---> 256\n",
      "64 ---> 512\n",
      "64 ---> 1024\n",
      "64 ---> 2048\n",
      "WARNING:tensorflow:No training configuration found in save file: the model was *not* compiled. Compile it manually.\n",
      "32 ---> 32\n",
      "32 ---> 64\n",
      "32 ---> 128\n",
      "32 ---> 256\n",
      "32 ---> 512\n",
      "32 ---> 1024\n",
      "32 ---> 2048\n"
     ]
    }
   ],
   "source": [
    "# get performance metrics for various evaluation bin sizes \n",
    "bin_sizes = [1, 32, 64, 128, 256, 512, 1024, 2048]\n",
    "\n",
    "performance_per_resolution = []\n",
    "for raw_bin_size in bin_run.keys():\n",
    "    model, _ = tfr_evaluate.read_model(bin_run[raw_bin_size])\n",
    "    all_true, all_pred = get_true_pred(model, raw_bin_size, testset)\n",
    "    for eval_bin_size in bin_sizes:\n",
    "        if eval_bin_size>=raw_bin_size:\n",
    "            print(raw_bin_size, '--->', eval_bin_size)\n",
    "            true_for_eval = change_resolution(all_true, raw_bin_size, eval_bin_size)\n",
    "            pred_for_eval = change_resolution(all_pred, raw_bin_size, eval_bin_size)\n",
    "            performance = get_performance(true_for_eval, pred_for_eval, targets, 'whole')\n",
    "            performance_per_resolution.append([raw_bin_size, eval_bin_size] + list(performance.mean().values))\n",
    "\n"
   ]
  },
  {
   "cell_type": "code",
   "execution_count": 9,
   "metadata": {},
   "outputs": [],
   "source": [
    "metric_label = {'pr_corr':'Pearson r'}\n",
    "metric = list(metric_label.keys())[0]\n",
    "label = metric_label[metric]"
   ]
  },
  {
   "cell_type": "code",
   "execution_count": 10,
   "metadata": {},
   "outputs": [],
   "source": [
    "sorted_personr = pd.DataFrame(performance_per_resolution, columns=['train', 'eval']+list(performance.columns[:-1].values)).sort_values(['train', 'eval'])[['train', 'eval', metric]]\n"
   ]
  },
  {
   "cell_type": "code",
   "execution_count": 11,
   "metadata": {},
   "outputs": [],
   "source": [
    "sorted_personr.to_csv('sorted_'+label)"
   ]
  },
  {
   "cell_type": "code",
   "execution_count": 12,
   "metadata": {},
   "outputs": [],
   "source": [
    "sorted_personr = pd.read_csv('sorted_'+label)"
   ]
  },
  {
   "cell_type": "code",
   "execution_count": 13,
   "metadata": {},
   "outputs": [],
   "source": [
    "padded_values = []\n",
    "bin_sizes = [1, 32, 64, 128, 256, 512, 1024, 2048]\n",
    "\n",
    "for train_bin, df in sorted_personr.groupby('train'):\n",
    "    pr_values = list(df[metric].values)\n",
    "    add_N = len(bin_sizes)-len(pr_values)\n",
    "    if add_N>0:\n",
    "        pr_values = [np.nan for n in range(add_N)]+pr_values\n",
    "    padded_values.append(pr_values)"
   ]
  },
  {
   "cell_type": "code",
   "execution_count": 14,
   "metadata": {},
   "outputs": [
    {
     "data": {
      "text/plain": [
       "Text(33.0, 0.5, 'Training bin size')"
      ]
     },
     "execution_count": 14,
     "metadata": {},
     "output_type": "execute_result"
    },
    {
     "data": {
      "image/png": "[encoded data removed]",
      "text/plain": [
       "<Figure size 432x360 with 2 Axes>"
      ]
     },
     "metadata": {
      "needs_background": "light"
     },
     "output_type": "display_data"
    }
   ],
   "source": [
    "fig, ax = plt.subplots(figsize=[6, 5])\n",
    " \n",
    "# creating mask\n",
    "mask = np.triu(np.ones_like(padded_values), 1).T\n",
    " \n",
    "# plotting a triangle correlation heatmap\n",
    "dataplot = sns.heatmap(padded_values, cmap=\"rocket_r\", annot=True, mask=mask, \n",
    "                       cbar_kws={'label': \"Average \"+label}, ax=ax)\n",
    "dataplot.set_xticks([r+0.5 for r in range(len(bin_sizes))]) \n",
    "dataplot.set_yticks([r+0.5 for r in range(len(bin_sizes))]) \n",
    "dataplot.set_xticklabels(bin_sizes) \n",
    "dataplot.set_yticklabels(bin_sizes, rotation=25) \n",
    "dataplot.set_xlabel('Evaluation bin size')\n",
    "dataplot.set_ylabel('Training bin size')"
   ]
  },
  {
   "cell_type": "code",
   "execution_count": null,
   "metadata": {},
   "outputs": [],
   "source": []
  }
 ],
 "metadata": {
  "kernelspec": {
   "display_name": "Python 3",
   "language": "python",
   "name": "python3"
  },
  "language_info": {
   "codemirror_mode": {
    "name": "ipython",
    "version": 3
   },
   "file_extension": ".py",
   "mimetype": "text/x-python",
   "name": "python",
   "nbconvert_exporter": "python",
   "pygments_lexer": "ipython3",
   "version": "3.7.0b3"
  }
 },
 "nbformat": 4,
 "nbformat_minor": 4
}

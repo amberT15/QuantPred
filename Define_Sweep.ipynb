{
 "cells": [
  {
   "cell_type": "code",
   "execution_count": 2,
   "metadata": {},
   "outputs": [
    {
     "name": "stderr",
     "output_type": "stream",
     "text": [
      "\u001b[34m\u001b[1mwandb\u001b[0m: Currently logged in as: \u001b[33mtoneyan\u001b[0m (use `wandb login --relogin` to force relogin)\n"
     ]
    },
    {
     "data": {
      "text/plain": [
       "True"
      ]
     },
     "execution_count": 2,
     "metadata": {},
     "output_type": "execute_result"
    }
   ],
   "source": [
    "import wandb\n",
    "import itertools\n",
    "wandb.login()"
   ]
  },
  {
   "cell_type": "markdown",
   "metadata": {},
   "source": [
    "# bpnet"
   ]
  },
  {
   "cell_type": "code",
   "execution_count": 4,
   "metadata": {},
   "outputs": [
    {
     "name": "stdout",
     "output_type": "stream",
     "text": [
      "{'method': 'grid', 'metric': {'name': 'val_loss', 'goal': 'minimize'}, 'parameters': {'data_dir': {'value': '/home/shush/profile/QuantPred/datasets/ATAC_v4/i_3072_w_1/'}, 'model_fn': {'value': 'bpnet'}, 'loss_fn': {'value': 'multinomialnll'}, 'window_size': {'value': 2048}, 'bin_size': {'value': 1}, 'l_rate': {'value': 0.001}, 'epochN': {'value': 30}, 'filtN_1': {'values': [64, 128]}, 'filtN_2': {'values': [64, 128, 256]}, 'kern_3': {'values': [7, 17, 25]}}}\n",
      "Create sweep with ID: smuqb1k1\n",
      "Sweep URL: https://wandb.ai/toneyan/tune_bpnet_debug/sweeps/smuqb1k1\n"
     ]
    }
   ],
   "source": [
    "sweep_config = {\n",
    "    'method': 'grid'\n",
    "    }\n",
    "\n",
    "metric = {\n",
    "    'name': 'val_loss',\n",
    "    'goal': 'minimize'   \n",
    "    }\n",
    "\n",
    "sweep_config['metric'] = metric\n",
    "parameters_dict = {\n",
    "    'data_dir':{\n",
    "#         'value': '/home/shush/profile/QuantPred/datasets/ATAC_v3/i_3072_w_1/'\n",
    "          'value': '/home/shush/profile/QuantPred/datasets/ATAC_v4/i_3072_w_1/'\n",
    "    },\n",
    "    'model_fn':{\n",
    "        'value': 'bpnet'\n",
    "    },\n",
    "    'loss_fn':{\n",
    "        'value': 'multinomialnll'\n",
    "    },\n",
    "    'window_size':{\n",
    "        'value': 2048\n",
    "    },\n",
    "    'bin_size':{\n",
    "        'value': 1\n",
    "    },\n",
    "    'l_rate': {\n",
    "        'value': 0.001\n",
    "    },\n",
    "    'epochN': {\n",
    "        'value': 30\n",
    "    },\n",
    "    'filtN_1': {\n",
    "        'values': [64, 128]\n",
    "    },\n",
    "    'filtN_2': {\n",
    "        'values': [64, 128, 256]\n",
    "    },\n",
    "#     'filtN_3': {\n",
    "#         'values': [32,64,128]\n",
    "#     },\n",
    "#     'filtN_4': {\n",
    "#         'values': [32,64,128]\n",
    "#     },\n",
    "    'kern_3': {\n",
    "        'values': [7, 17, 25]\n",
    "    },\n",
    "#     'kern_2': {\n",
    "#         'values': [3, 8]\n",
    "#     },    \n",
    "\n",
    "    }\n",
    "\n",
    "sweep_config['parameters'] = parameters_dict\n",
    "print(sweep_config)\n",
    "\n",
    "sweep_id = wandb.sweep(sweep_config, project=\"tune_bpnet_debug\")"
   ]
  },
  {
   "cell_type": "code",
   "execution_count": 7,
   "metadata": {},
   "outputs": [
    {
     "name": "stdout",
     "output_type": "stream",
     "text": [
      "{'method': 'grid', 'metric': {'name': 'val_loss', 'goal': 'minimize'}, 'parameters': {'data_dir': {'value': '/home/shush/profile/QuantPred/datasets/ATAC_v4/i_3072_w_1/'}, 'model_fn': {'value': 'basenjimod'}, 'loss_fn': {'value': 'poisson'}, 'window_size': {'value': 2048}, 'bin_size': {'value': 128}, 'l_rate': {'value': 0.001}, 'epochN': {'value': 30}, 'filtN_1': {'values': [64, 128]}, 'filtN_2': {'values': [64, 128, 256]}, 'kern_3': {'values': [7, 17, 25]}}}\n",
      "Create sweep with ID: ooadnkpx\n",
      "Sweep URL: https://wandb.ai/toneyan/tune_basenji_debug/sweeps/ooadnkpx\n"
     ]
    }
   ],
   "source": [
    "sweep_config = {\n",
    "    'method': 'grid'\n",
    "    }\n",
    "\n",
    "metric = {\n",
    "    'name': 'val_loss',\n",
    "    'goal': 'minimize'   \n",
    "    }\n",
    "\n",
    "sweep_config['metric'] = metric\n",
    "parameters_dict = {\n",
    "    'data_dir':{\n",
    "#         'value': '/home/shush/profile/QuantPred/datasets/ATAC_v3/i_3072_w_1/'\n",
    "          'value': '/home/shush/profile/QuantPred/datasets/ATAC_v4/i_3072_w_1/'\n",
    "    },\n",
    "    'model_fn':{\n",
    "        'value': 'basenjimod'\n",
    "    },\n",
    "    'loss_fn':{\n",
    "        'value': 'poisson'\n",
    "    },\n",
    "    'window_size':{\n",
    "        'value': 2048\n",
    "    },\n",
    "    'bin_size':{\n",
    "        'value': 128\n",
    "    },\n",
    "    'l_rate': {\n",
    "        'value': 0.001\n",
    "    },\n",
    "    'epochN': {\n",
    "        'value': 30\n",
    "    },\n",
    "    'filtN_1': {\n",
    "        'values': [64, 128]\n",
    "    },\n",
    "    'filtN_2': {\n",
    "        'values': [64, 128, 256]\n",
    "    },\n",
    "#     'filtN_3': {\n",
    "#         'values': [32,64,128]\n",
    "#     },\n",
    "#     'filtN_4': {\n",
    "#         'values': [32,64,128]\n",
    "#     },\n",
    "    'kern_3': {\n",
    "        'values': [7, 17, 25]\n",
    "    },\n",
    "#     'kern_2': {\n",
    "#         'values': [3, 8]\n",
    "#     },    \n",
    "\n",
    "    }\n",
    "\n",
    "sweep_config['parameters'] = parameters_dict\n",
    "print(sweep_config)\n",
    "\n",
    "sweep_id = wandb.sweep(sweep_config, project=\"tune_basenji_debug\")"
   ]
  },
  {
   "cell_type": "code",
   "execution_count": 8,
   "metadata": {},
   "outputs": [
    {
     "name": "stdout",
     "output_type": "stream",
     "text": [
      "{'method': 'grid', 'metric': {'name': 'val_loss', 'goal': 'minimize'}, 'parameters': {'data_dir': {'value': '/home/shush/profile/QuantPred/datasets/ATAC_v4/i_3072_w_1/'}, 'model_fn': {'value': 'ori_bpnet'}, 'loss_fn': {'value': 'multinomialnll_mse'}, 'window_size': {'value': 2048}, 'bin_size': {'value': 1}, 'l_rate': {'value': 0.001}, 'epochN': {'value': 30}, 'filtN_1': {'values': [64, 128]}, 'filtN_2': {'values': [64, 128, 256]}, 'kern_3': {'values': [7, 17, 25]}}}\n",
      "Create sweep with ID: ix6r9384\n",
      "Sweep URL: https://wandb.ai/toneyan/tune_ori_bpnet/sweeps/ix6r9384\n"
     ]
    }
   ],
   "source": [
    "sweep_config = {\n",
    "    'method': 'grid'\n",
    "    }\n",
    "\n",
    "metric = {\n",
    "    'name': 'val_loss',\n",
    "    'goal': 'minimize'   \n",
    "    }\n",
    "\n",
    "sweep_config['metric'] = metric\n",
    "parameters_dict = {\n",
    "    'data_dir':{\n",
    "        'value': '/home/shush/profile/QuantPred/datasets/ATAC_v4/i_3072_w_1/'\n",
    "    },\n",
    "    'model_fn':{\n",
    "        'value': 'ori_bpnet'\n",
    "    },\n",
    "    'loss_fn':{\n",
    "        'value': 'multinomialnll_mse'\n",
    "    },\n",
    "    'window_size':{\n",
    "        'value': 2048\n",
    "    },\n",
    "    'bin_size':{\n",
    "        'value': 1\n",
    "    },\n",
    "    'l_rate': {\n",
    "        'value': 0.001\n",
    "    },\n",
    "    'epochN': {\n",
    "        'value': 30\n",
    "    },\n",
    "    'filtN_1': {\n",
    "        'values': [64, 128]\n",
    "    },\n",
    "    'filtN_2': {\n",
    "        'values': [64, 128, 256]\n",
    "    },\n",
    "#     'filtN_3': {\n",
    "#         'values': [32,64,128]\n",
    "#     },\n",
    "#     'filtN_4': {\n",
    "#         'values': [32,64,128]\n",
    "#     },\n",
    "    'kern_3': {\n",
    "        'values': [7, 17, 25]\n",
    "    },\n",
    "#     'kern_2': {\n",
    "#         'values': [3, 8]\n",
    "#     },    \n",
    "\n",
    "    }\n",
    "\n",
    "sweep_config['parameters'] = parameters_dict\n",
    "print(sweep_config)\n",
    "\n",
    "sweep_id = wandb.sweep(sweep_config, project=\"tune_ori_bpnet\")"
   ]
  },
  {
   "cell_type": "markdown",
   "metadata": {},
   "source": []
  },
  {
   "cell_type": "markdown",
   "metadata": {},
   "source": [
    "# basenji"
   ]
  },
  {
   "cell_type": "code",
   "execution_count": 125,
   "metadata": {},
   "outputs": [],
   "source": [
    "filtN_1 = [64, 128]\n",
    "filtN_2 = [64, 128, 256]\n",
    "filtN_4 = [64, 128, 256]\n",
    "filtN_5 = [64, 128, 256, 512, 1024]\n",
    "\n",
    "all_combs = list(itertools.product(*[filtN_1, filtN_2, filtN_4, filtN_5]))\n",
    "\n",
    "good_combs = []\n",
    "for comb in all_combs:\n",
    "    if all(i <= j for i, j in zip(comb, comb[1:])):\n",
    "        good_combs.append(comb)"
   ]
  },
  {
   "cell_type": "code",
   "execution_count": 139,
   "metadata": {},
   "outputs": [
    {
     "name": "stdout",
     "output_type": "stream",
     "text": [
      "{'method': 'grid', 'metric': {'name': 'val_loss', 'goal': 'minimize'}, 'parameters': {'data_dir': {'value': '/home/shush/profile/QuantPred/datasets/ATAC_v3/i_3072_w_1/'}, 'model_fn': {'value': 'basenjimod'}, 'loss_fn': {'value': 'poisson'}, 'window_size': {'value': 2048}, 'bin_size': {'value': 128}, 'l_rate': {'value': 0.001}, 'epochN': {'value': 30}, 'filtN_list': {'values': [(64, 64, 64, 64), (64, 64, 64, 128), (64, 64, 64, 256), (64, 64, 64, 512), (64, 64, 64, 1024), (64, 64, 128, 128), (64, 64, 128, 256), (64, 64, 128, 512), (64, 64, 128, 1024), (64, 64, 256, 256), (64, 64, 256, 512), (64, 64, 256, 1024), (64, 128, 128, 128), (64, 128, 128, 256), (64, 128, 128, 512), (64, 128, 128, 1024), (64, 128, 256, 256), (64, 128, 256, 512), (64, 128, 256, 1024), (64, 256, 256, 256), (64, 256, 256, 512), (64, 256, 256, 1024), (128, 128, 128, 128), (128, 128, 128, 256), (128, 128, 128, 512), (128, 128, 128, 1024), (128, 128, 256, 256), (128, 128, 256, 512), (128, 128, 256, 1024), (128, 256, 256, 256), (128, 256, 256, 512), (128, 256, 256, 1024)]}, 'drp_off': {'values': [False, True]}}}\n",
      "Create sweep with ID: 72sct06g\n",
      "Sweep URL: https://wandb.ai/toneyan/tune_basenji/sweeps/72sct06g\n"
     ]
    }
   ],
   "source": [
    "sweep_config = {\n",
    "    'method': 'grid'\n",
    "    }\n",
    "\n",
    "metric = {\n",
    "    'name': 'val_loss',\n",
    "    'goal': 'minimize'   \n",
    "    }\n",
    "\n",
    "sweep_config['metric'] = metric\n",
    "parameters_dict = {\n",
    "    'data_dir':{\n",
    "        'value': '/home/shush/profile/QuantPred/datasets/ATAC_v3/i_3072_w_1/'\n",
    "    },\n",
    "    'model_fn':{\n",
    "        'value': 'basenjimod'\n",
    "    },\n",
    "    'loss_fn':{\n",
    "        'value': 'poisson'\n",
    "    },\n",
    "    'window_size':{\n",
    "        'value': 2048\n",
    "    },\n",
    "    'bin_size':{\n",
    "        'value': 128\n",
    "    },\n",
    "    'l_rate': {\n",
    "        'value': 0.001\n",
    "    },\n",
    "    'epochN': {\n",
    "        'value': 30\n",
    "    },\n",
    "    'filtN_list': {\n",
    "        'values': good_combs\n",
    "    },\n",
    "    'drp_off': {\n",
    "        'values': [False, True]\n",
    "    }\n",
    "#     'filtN_1': {\n",
    "#         'values': [64, 128]\n",
    "#     },\n",
    "#     'filtN_2': {\n",
    "#         'values': [32, 64, 128]\n",
    "#     },\n",
    "#     'filtN_3': {\n",
    "#         'values': [32,64,128]\n",
    "#     },\n",
    "#     'filtN_4': {\n",
    "#         'values': [32,64,128]\n",
    "#     },\n",
    "#     'kern_1': {\n",
    "#         'values': [5, 15, 25]\n",
    "#     },\n",
    "#     'kern_2': {\n",
    "#         'values': [3, 8]\n",
    "#     },    \n",
    "#     'filt_mlt': {\n",
    "#         'values': [1.125, 2]\n",
    "#     }\n",
    "    }\n",
    "\n",
    "sweep_config['parameters'] = parameters_dict\n",
    "print(sweep_config)\n",
    "\n",
    "sweep_id = wandb.sweep(sweep_config, project=\"tune_basenji\")"
   ]
  },
  {
   "cell_type": "code",
   "execution_count": 129,
   "metadata": {},
   "outputs": [
    {
     "data": {
      "text/plain": [
       "32"
      ]
     },
     "execution_count": 129,
     "metadata": {},
     "output_type": "execute_result"
    }
   ],
   "source": [
    "len(good_combs)"
   ]
  },
  {
   "cell_type": "code",
   "execution_count": null,
   "metadata": {},
   "outputs": [],
   "source": []
  }
 ],
 "metadata": {
  "kernelspec": {
   "display_name": "Python 3",
   "language": "python",
   "name": "python3"
  },
  "language_info": {
   "codemirror_mode": {
    "name": "ipython",
    "version": 3
   },
   "file_extension": ".py",
   "mimetype": "text/x-python",
   "name": "python",
   "nbconvert_exporter": "python",
   "pygments_lexer": "ipython3",
   "version": "3.7.0b3"
  }
 },
 "nbformat": 4,
 "nbformat_minor": 2
}

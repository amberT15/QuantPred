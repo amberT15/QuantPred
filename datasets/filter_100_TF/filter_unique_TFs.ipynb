{
 "cells": [
  {
   "cell_type": "code",
   "execution_count": 1,
   "metadata": {},
   "outputs": [],
   "source": [
    "import os \n",
    "import pandas as pd\n",
    "import numpy as np"
   ]
  },
  {
   "cell_type": "markdown",
   "metadata": {},
   "source": [
    "**Filtered dataset**\n",
    "https://www.encodeproject.org/search/?type=Experiment&status=released&replicates.library.biosample.donor.organism.scientific_name=Homo+sapiens&biosample_ontology.term_name=HepG2&assay_title=TF+ChIP-seq&biosample_ontology.classification=cell+line&perturbed=false&target.investigated_as=transcription+factor&assembly=GRCh38&audit.ERROR.category!=extremely+low+read+depth&audit.NOT_COMPLIANT.category!=insufficient+read+depth&audit.NOT_COMPLIANT.category!=insufficient+read+length&audit.NOT_COMPLIANT.category!=poor+library+complexity&audit.ERROR.category!=missing+compliant+biosample+characterization&audit.ERROR.category!=not+compliant+biosample+characterization&audit.NOT_COMPLIANT.category!=insufficient+replicate+concordance&audit.NOT_COMPLIANT.category!=severe+bottlenecking&audit.NOT_COMPLIANT.category!=partially+characterized+antibody&audit.WARNING.category!=low+read+depth&audit.WARNING.category!=low+read+length&audit.WARNING.category!=moderate+library+complexity&audit.WARNING.category!=borderline+replicate+concordance&audit.WARNING.category!=missing+compliant+biosample+characterization&audit.WARNING.category!=antibody+characterized+with+exemption&audit.WARNING.category!=improper+control_type+of+control+experiment&audit.WARNING.category!=missing+biosample+characterization&audit.WARNING.category!=inconsistent+platforms&audit.WARNING.category!=control+low+read+depth&audit.WARNING.category!=missing+controlled_by&audit.WARNING.category!=inconsistent+control+read+length&audit.WARNING.category!=missing+genetic+modification+characterization&audit.WARNING.category!=inconsistent+control+run_type&audit.WARNING.category!=mixed+read+lengths"
   ]
  },
  {
   "cell_type": "markdown",
   "metadata": {},
   "source": [
    "**CTCF file** https://www.encodeproject.org/search/?type=Experiment&status=released&replicates.library.biosample.donor.organism.scientific_name=Homo+sapiens&biosample_ontology.term_name=HepG2&assay_title=TF+ChIP-seq&biosample_ontology.classification=cell+line&perturbed=false&target.investigated_as=transcription+factor&assembly=GRCh38&audit.ERROR.category!=extremely+low+read+depth&target.label=CTCF&audit.WARNING.category!=low+read+length"
   ]
  },
  {
   "cell_type": "code",
   "execution_count": 16,
   "metadata": {},
   "outputs": [],
   "source": [
    "def make_directory(path):\n",
    "\n",
    "    if not os.path.isdir(path):\n",
    "        os.mkdir(path)\n",
    "        print(\"Making directory: \" + path)\n",
    "    else:\n",
    "        print(\"Directory already exists!\")\n",
    "    return path"
   ]
  },
  {
   "cell_type": "code",
   "execution_count": 17,
   "metadata": {},
   "outputs": [],
   "source": [
    "base_dir = '.'\n",
    "files_dir = os.path.join(base_dir, 'files')\n",
    "met_dir = os.path.join(base_dir, 'metadata')"
   ]
  },
  {
   "cell_type": "code",
   "execution_count": 18,
   "metadata": {},
   "outputs": [],
   "source": [
    "met_files = [os.path.join(met_dir, m) for m in os.listdir(met_dir) if m.endswith('.tsv')]\n",
    "metadata_list = [pd.read_csv(met_file, sep='\\t') for i, met_file in enumerate(met_files)]"
   ]
  },
  {
   "cell_type": "code",
   "execution_count": 19,
   "metadata": {},
   "outputs": [],
   "source": [
    "metadata = pd.concat(metadata_list)"
   ]
  },
  {
   "cell_type": "code",
   "execution_count": 20,
   "metadata": {},
   "outputs": [],
   "source": [
    "selected = []\n",
    "for i, df in metadata.groupby(['Experiment accession', 'Experiment target']):\n",
    "    outputs = df['Output type'].values\n",
    "    assert ('alignments' in outputs) and ('fold change over control' in outputs) and ('signal p-value' in outputs) and ('bed' in df['File type'].values), 'Incomplete dataset detected'"
   ]
  },
  {
   "cell_type": "code",
   "execution_count": 28,
   "metadata": {},
   "outputs": [],
   "source": [
    "all_tfs = list(set(metadata['Experiment target']))\n",
    "np.random.seed(42)\n",
    "tf_selection = list(np.random.choice(all_tfs, 100, replace=False)) # 'CTCF-human' magically is in there\n"
   ]
  },
  {
   "cell_type": "code",
   "execution_count": 29,
   "metadata": {},
   "outputs": [],
   "source": [
    "select_exp = []\n",
    "for tf in tf_selection:\n",
    "    tf_df = metadata[metadata['Experiment target']==tf]\n",
    "    one_exp = list(iter(tf_df.groupby('Experiment accession')))[0][1]\n",
    "    select_exp.append(one_exp)\n",
    "    "
   ]
  },
  {
   "cell_type": "code",
   "execution_count": 30,
   "metadata": {},
   "outputs": [],
   "source": [
    "select_df = pd.concat(select_exp)\n",
    "assert len(set(select_df['Experiment target'].values)) == 100, 'Incorrect number of experiments selected!'\n",
    "select_df.to_csv(os.path.join(met_dir, 'selected_metadata.tsv'))"
   ]
  },
  {
   "cell_type": "code",
   "execution_count": null,
   "metadata": {},
   "outputs": [],
   "source": []
  }
 ],
 "metadata": {
  "kernelspec": {
   "display_name": "Python 2",
   "language": "python",
   "name": "python2"
  },
  "language_info": {
   "codemirror_mode": {
    "name": "ipython",
    "version": 3
   },
   "file_extension": ".py",
   "mimetype": "text/x-python",
   "name": "python",
   "nbconvert_exporter": "python",
   "pygments_lexer": "ipython3",
   "version": "3.7.0b3"
  }
 },
 "nbformat": 4,
 "nbformat_minor": 4
}
